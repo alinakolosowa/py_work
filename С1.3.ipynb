{
 "cells": [
  {
   "cell_type": "code",
   "execution_count": 2,
   "metadata": {},
   "outputs": [],
   "source": [
    "from tkinter import * \n",
    "root = Tk() \n",
    "root.title(\"Треугольник\") \n",
    "c = Canvas(root, width = 300, height = 300, bg = 'white') \n",
    "c.pack() \n",
    "c.create_polygon([100, 100], [150, 100], [80, 170], fill = 'black') \n",
    "root2 = Tk() \n",
    "root2.title(\"Квадрат\") \n",
    "c2 = Canvas(root2, width = 300, height = 300, bg = 'white') \n",
    "c2.pack() \n",
    "c2.create_rectangle(80, 150, 170, 80, fill = 'green') \n",
    "root3 = Tk() \n",
    "root3.title(\"Пятиугольник\") \n",
    "c3 = Canvas(root3, width = 300, height = 300, bg = 'white') \n",
    "c3.pack() \n",
    "c3.create_polygon([100, 100], [150, 100], [170, 120], [150, 140], [100, 140], fill = 'orange') \n",
    "root4 = Tk() \n",
    "root4.title(\"Шестиугольник\") \n",
    "c4 = Canvas(root4, width = 300, height = 300, bg = 'white') \n",
    "c4.pack() \n",
    "c4.create_polygon([120, 100], [140, 120], [140, 140], [120, 160], [100, 140], [100, 120], fill = 'red') \n",
    "root.mainloop()"
   ]
  },
  {
   "cell_type": "code",
   "execution_count": null,
   "metadata": {},
   "outputs": [],
   "source": []
  }
 ],
 "metadata": {
  "kernelspec": {
   "display_name": "Python 3",
   "language": "python",
   "name": "python3"
  },
  "language_info": {
   "codemirror_mode": {
    "name": "ipython",
    "version": 3
   },
   "file_extension": ".py",
   "mimetype": "text/x-python",
   "name": "python",
   "nbconvert_exporter": "python",
   "pygments_lexer": "ipython3",
   "version": "3.7.4"
  }
 },
 "nbformat": 4,
 "nbformat_minor": 2
}
