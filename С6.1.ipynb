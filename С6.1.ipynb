{
 "cells": [
  {
   "cell_type": "code",
   "execution_count": 3,
   "metadata": {},
   "outputs": [
    {
     "name": "stdout",
     "output_type": "stream",
     "text": [
      "[7, -15, 3, 8, 0, 9, -6, 13, -1, 5]\n",
      "[8, -15, 3, 8, 0, 9, -6, 13, -1, 5]\n",
      "[5, -15, 3, 8, 0, 9, -6, 13, -1, 5]\n",
      "[10, -15, 3, 8, 0, 9, -6, 13, -1, 5]\n"
     ]
    }
   ],
   "source": [
    "listOne = [7, -15, 3, 8, 0, 9, -6, 13, -1, 5] \n",
    "listTwo = [8, -15, 3, 8, 0, 9, -6, 13, -1, 5] \n",
    "print(listOne) \n",
    "print(listTwo) \n",
    "k1=5 \n",
    "for i in range(len(listOne)): \n",
    " if listOne[i] > listOne[i+1]: \n",
    "   listOne[i] = k1 \n",
    "   break \n",
    "k2=10 \n",
    "for i in range(len(listTwo)): \n",
    " if listTwo[i] > listTwo[i+1]: \n",
    "  listTwo[i] = k2 \n",
    "  break \n",
    "print(listOne) \n",
    "print(listTwo)"
   ]
  }
 ],
 "metadata": {
  "kernelspec": {
   "display_name": "Python 3",
   "language": "python",
   "name": "python3"
  },
  "language_info": {
   "codemirror_mode": {
    "name": "ipython",
    "version": 3
   },
   "file_extension": ".py",
   "mimetype": "text/x-python",
   "name": "python",
   "nbconvert_exporter": "python",
   "pygments_lexer": "ipython3",
   "version": "3.7.4"
  }
 },
 "nbformat": 4,
 "nbformat_minor": 2
}
