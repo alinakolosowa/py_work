{
 "cells": [
  {
   "cell_type": "code",
   "execution_count": 1,
   "metadata": {},
   "outputs": [
    {
     "name": "stdout",
     "output_type": "stream",
     "text": [
      "Введите n 5\n",
      "Введите элементы массива 15\n",
      "Введите элементы массива 3\n",
      "Введите элементы массива 6\n",
      "Введите элементы массива 8\n",
      "Введите элементы массива 7\n",
      "[15, 3, 6, 8, 7]\n",
      "2\n"
     ]
    }
   ],
   "source": [
    "\n",
    "import random\n",
    "k=0\n",
    "a = []\n",
    "n = int(input(\"Введите n \"))\n",
    "for i in range(n):\n",
    " new_element = int(input(\"Введите элементы массива \"))\n",
    " a.append(new_element)\n",
    "print(a)\n",
    "for i in a:\n",
    "    if (i%3==0) and (i%5!=0):\n",
    "        k+=1\n",
    "print(k)"
   ]
  }
 ],
 "metadata": {
  "kernelspec": {
   "display_name": "Python 3",
   "language": "python",
   "name": "python3"
  },
  "language_info": {
   "codemirror_mode": {
    "name": "ipython",
    "version": 3
   },
   "file_extension": ".py",
   "mimetype": "text/x-python",
   "name": "python",
   "nbconvert_exporter": "python",
   "pygments_lexer": "ipython3",
   "version": "3.7.4"
  }
 },
 "nbformat": 4,
 "nbformat_minor": 2
}
