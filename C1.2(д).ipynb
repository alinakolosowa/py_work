{
 "cells": [
  {
   "cell_type": "code",
   "execution_count": 1,
   "metadata": {},
   "outputs": [
    {
     "name": "stdout",
     "output_type": "stream",
     "text": [
      "Введите координаты точки\n",
      "x = 5\n",
      "y = 6\n",
      "Точка НЕ принадлежит ромбу\n"
     ]
    }
   ],
   "source": [
    "import math\n",
    "\n",
    "print(\"Введите координаты точки\")\n",
    "x = float(input(\"x = \"))\n",
    "y = float(input(\"y = \"))\n",
    "\n",
    "\n",
    "if abs(x) <= 0.5:\n",
    "    if abs(y)<= 1:\n",
    "        print(\"Точка принадлежит ромбу\")\n",
    "else:\n",
    "    print(\"Точка НЕ принадлежит ромбу\")"
   ]
  }
 ],
 "metadata": {
  "kernelspec": {
   "display_name": "Python 3",
   "language": "python",
   "name": "python3"
  },
  "language_info": {
   "codemirror_mode": {
    "name": "ipython",
    "version": 3
   },
   "file_extension": ".py",
   "mimetype": "text/x-python",
   "name": "python",
   "nbconvert_exporter": "python",
   "pygments_lexer": "ipython3",
   "version": "3.7.4"
  }
 },
 "nbformat": 4,
 "nbformat_minor": 2
}
