{
 "cells": [
  {
   "cell_type": "code",
   "execution_count": 2,
   "metadata": {},
   "outputs": [],
   "source": [
    "from tkinter import * \n",
    "\n",
    "from tkinter.ttk import * \n",
    "\n",
    "\n",
    "from time import strftime \n",
    "\n",
    "root = Tk() \n",
    "\n",
    "root.title('Clock') \n",
    "\n",
    "\n",
    "def time(): \n",
    "\n",
    " string = strftime('%H:%M:%S %p') \n",
    "\n",
    " lbl.config(text = string) \n",
    "\n",
    " lbl.after(1000, time) \n",
    "\n",
    "lbl = Label(root, font = ('calibri', 40, 'bold'), background = 'purple', foreground = 'white') \n",
    "\n",
    "\n",
    "\n",
    "lbl.pack(anchor = 'center') \n",
    "\n",
    "time() \n",
    "\n",
    "\n",
    "mainloop()"
   ]
  }
 ],
 "metadata": {
  "kernelspec": {
   "display_name": "Python 3",
   "language": "python",
   "name": "python3"
  },
  "language_info": {
   "codemirror_mode": {
    "name": "ipython",
    "version": 3
   },
   "file_extension": ".py",
   "mimetype": "text/x-python",
   "name": "python",
   "nbconvert_exporter": "python",
   "pygments_lexer": "ipython3",
   "version": "3.7.4"
  }
 },
 "nbformat": 4,
 "nbformat_minor": 2
}
