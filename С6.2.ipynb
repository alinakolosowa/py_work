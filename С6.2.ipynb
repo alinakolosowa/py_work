{
 "cells": [
  {
   "cell_type": "code",
   "execution_count": 1,
   "metadata": {},
   "outputs": [
    {
     "name": "stdout",
     "output_type": "stream",
     "text": [
      "Введите n 5\n",
      "Введите элемент массива 5\n",
      "Введите элемент массива 6\n",
      "Введите элемент массива 1\n",
      "Введите элемент массива 3\n",
      "Введите элемент массива 4\n",
      "[5, 6, 1, 3, 4]\n",
      "360\n"
     ]
    }
   ],
   "source": [
    "n=int(input((\"Введите n \"))) \n",
    "\n",
    "a=[] \n",
    "k=1 \n",
    "for i in range(n): \n",
    " new_element = int(input(\"Введите элемент массива \")) \n",
    " a.append(new_element) \n",
    " k=k*new_element \n",
    "print(a) \n",
    "print(k)"
   ]
  }
 ],
 "metadata": {
  "kernelspec": {
   "display_name": "Python 3",
   "language": "python",
   "name": "python3"
  },
  "language_info": {
   "codemirror_mode": {
    "name": "ipython",
    "version": 3
   },
   "file_extension": ".py",
   "mimetype": "text/x-python",
   "name": "python",
   "nbconvert_exporter": "python",
   "pygments_lexer": "ipython3",
   "version": "3.7.4"
  }
 },
 "nbformat": 4,
 "nbformat_minor": 2
}
