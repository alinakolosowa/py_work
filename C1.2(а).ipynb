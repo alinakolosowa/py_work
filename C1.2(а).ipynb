{
 "cells": [
  {
   "cell_type": "code",
   "execution_count": 1,
   "metadata": {},
   "outputs": [
    {
     "name": "stdout",
     "output_type": "stream",
     "text": [
      "Введите координаты точки\n",
      "x = 0.6\n",
      "y = 2\n",
      "Точка НЕ принадлежит кругу\n"
     ]
    }
   ],
   "source": [
    "import math\n",
    " \n",
    "print(\"Введите координаты точки\")\n",
    "x = float(input(\"x = \"))\n",
    "y = float(input(\"y = \"))\n",
    " \n",
    "r_xy = math.sqrt(x**2 + y**2)\n",
    " \n",
    "if r_xy <= 1:\n",
    "\tprint(\"Точка принадлежит кругу\")\n",
    "else:\n",
    "\tprint(\"Точка НЕ принадлежит кругу\")"
   ]
  },
  {
   "cell_type": "code",
   "execution_count": null,
   "metadata": {},
   "outputs": [],
   "source": []
  },
  {
   "cell_type": "code",
   "execution_count": null,
   "metadata": {},
   "outputs": [],
   "source": []
  },
  {
   "cell_type": "code",
   "execution_count": null,
   "metadata": {},
   "outputs": [],
   "source": []
  }
 ],
 "metadata": {
  "kernelspec": {
   "display_name": "Python 3",
   "language": "python",
   "name": "python3"
  },
  "language_info": {
   "codemirror_mode": {
    "name": "ipython",
    "version": 3
   },
   "file_extension": ".py",
   "mimetype": "text/x-python",
   "name": "python",
   "nbconvert_exporter": "python",
   "pygments_lexer": "ipython3",
   "version": "3.7.4"
  }
 },
 "nbformat": 4,
 "nbformat_minor": 2
}
