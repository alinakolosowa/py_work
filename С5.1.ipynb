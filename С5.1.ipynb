{
 "cells": [
  {
   "cell_type": "code",
   "execution_count": 3,
   "metadata": {},
   "outputs": [
    {
     "name": "stdout",
     "output_type": "stream",
     "text": [
      "Введите строку мопед дед привет\n",
      "['мопед']\n",
      "['мопед', 'дед']\n",
      "['мопед', 'дед']\n"
     ]
    }
   ],
   "source": [
    "str=input(\"Введите строку \") \n",
    "strr=str.split() \n",
    "arr=[] \n",
    "for s in strr: \n",
    " if s.endswith('д'): \n",
    "  arr.append(s) \n",
    "\n",
    " else: \n",
    "  pass \n",
    " if not arr: \n",
    "  print(\"Нет таких слов\") \n",
    " else: \n",
    "  print(arr)"
   ]
  }
 ],
 "metadata": {
  "kernelspec": {
   "display_name": "Python 3",
   "language": "python",
   "name": "python3"
  },
  "language_info": {
   "codemirror_mode": {
    "name": "ipython",
    "version": 3
   },
   "file_extension": ".py",
   "mimetype": "text/x-python",
   "name": "python",
   "nbconvert_exporter": "python",
   "pygments_lexer": "ipython3",
   "version": "3.7.4"
  }
 },
 "nbformat": 4,
 "nbformat_minor": 2
}
