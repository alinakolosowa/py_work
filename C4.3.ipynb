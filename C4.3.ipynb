{
 "cells": [
  {
   "cell_type": "code",
   "execution_count": null,
   "metadata": {},
   "outputs": [
    {
     "name": "stdout",
     "output_type": "stream",
     "text": [
      "Введите n: 16\n"
     ]
    }
   ],
   "source": [
    "\n",
    "from tkinter import *\n",
    "import random\n",
    "\n",
    "window=Tk()\n",
    "window.title(\"Прямоугольник\")\n",
    "can = Canvas(window, width = 400, height=400, bg='white')\n",
    "can.pack()\n",
    "\n",
    "n = int(input(\"Введите n: \"))\n",
    "arr = [random.randint(0, 300) for i in range(n)]\n",
    "i=0\n",
    "\n",
    "while i < len(arr):\n",
    "    if (i % 4 == 0) and (i + 4 < len(arr)):\n",
    "        x1 = arr[i] - (arr[i+2]/ 2 )\n",
    "        y1 = arr[i+1] - (arr[i+3]/ 2)\n",
    "        x2 = arr[i] + arr[i+2] / 2\n",
    "        y2 = arr[i+1] + arr[i+3] / 2\n",
    "        can.create_rectangle(x1, y1, x2, y2, fill = 'green')\n",
    "    i += 1\n",
    "window.mainloop()"
   ]
  }
 ],
 "metadata": {
  "kernelspec": {
   "display_name": "Python 3",
   "language": "python",
   "name": "python3"
  },
  "language_info": {
   "codemirror_mode": {
    "name": "ipython",
    "version": 3
   },
   "file_extension": ".py",
   "mimetype": "text/x-python",
   "name": "python",
   "nbconvert_exporter": "python",
   "pygments_lexer": "ipython3",
   "version": "3.7.4"
  }
 },
 "nbformat": 4,
 "nbformat_minor": 2
}
