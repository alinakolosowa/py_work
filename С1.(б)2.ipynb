{
 "cells": [
  {
   "cell_type": "code",
   "execution_count": 3,
   "metadata": {},
   "outputs": [
    {
     "name": "stdout",
     "output_type": "stream",
     "text": [
      "Введите координаты точки\n",
      "x = 0.3\n",
      "y = 0.6\n",
      "Точка принадлежит кругу\n"
     ]
    }
   ],
   "source": [
    "import math\n",
    "\n",
    "print(\"Введите координаты точки\")\n",
    "x = float(input(\"x = \"))\n",
    "y = float(input(\"y = \"))\n",
    "\n",
    "r_xy = math.sqrt(x**2 + y**2)\n",
    "\n",
    "if r_xy <= 1:\n",
    "    if r_xy >= 0.5:\n",
    "        print(\"Точка принадлежит кругу\")\n",
    "else:\n",
    "    print(\"Точка НЕ принадлежит кругу\")"
   ]
  }
 ],
 "metadata": {
  "kernelspec": {
   "display_name": "Python 3",
   "language": "python",
   "name": "python3"
  },
  "language_info": {
   "codemirror_mode": {
    "name": "ipython",
    "version": 3
   },
   "file_extension": ".py",
   "mimetype": "text/x-python",
   "name": "python",
   "nbconvert_exporter": "python",
   "pygments_lexer": "ipython3",
   "version": "3.7.4"
  }
 },
 "nbformat": 4,
 "nbformat_minor": 2
}
