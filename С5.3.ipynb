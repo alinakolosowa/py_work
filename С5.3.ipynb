{
 "cells": [
  {
   "cell_type": "code",
   "execution_count": 1,
   "metadata": {},
   "outputs": [
    {
     "name": "stdout",
     "output_type": "stream",
     "text": [
      "Квадрат является магическим\n"
     ]
    }
   ],
   "source": [
    "mk = [[17, 24, 1, 8, 15], [23, 5, 7, 14, 16], [4, 6, 13, 20, 22], [10, 12, 19, 21, 3], [11, 18, 25, 2, 9]]\n",
    "sum = 0\n",
    "equal = True\n",
    "sum_gldiag = 0\n",
    "sum_pobdiag = 0\n",
    "for j in range(len(mk)):\n",
    " sum += mk[0][j]\n",
    "for i in range(len(mk)):\n",
    " sum_gldiag += mk[i][i]\n",
    " sum_pobdiag += mk[i][-i-1]\n",
    " sum_stroki = 0\n",
    " sum_stolb = 0\n",
    " for j in range(len(mk)):\n",
    "  sum_stroki += mk[i][j]\n",
    "  sum_stolb += mk[j][i]\n",
    " if (sum != sum_stroki) or (sum != sum_stolb):\n",
    "  equal = False\n",
    "if (sum!= sum_gldiag) or (sum != sum_pobdiag):\n",
    " equal = False\n",
    "if equal == True:\n",
    " print(\"Квадрат является магическим\")\n",
    "else:\n",
    " print(\"Квадрат не является магическим\")"
   ]
  }
 ],
 "metadata": {
  "kernelspec": {
   "display_name": "Python 3",
   "language": "python",
   "name": "python3"
  },
  "language_info": {
   "codemirror_mode": {
    "name": "ipython",
    "version": 3
   },
   "file_extension": ".py",
   "mimetype": "text/x-python",
   "name": "python",
   "nbconvert_exporter": "python",
   "pygments_lexer": "ipython3",
   "version": "3.7.4"
  }
 },
 "nbformat": 4,
 "nbformat_minor": 2
}
