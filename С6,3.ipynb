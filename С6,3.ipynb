{
 "cells": [
  {
   "cell_type": "code",
   "execution_count": 1,
   "metadata": {},
   "outputs": [
    {
     "name": "stdout",
     "output_type": "stream",
     "text": [
      "Введите год: 2020\n",
      "30   января   2020  года\n",
      "27   февраля   2020  года\n",
      "26   марта   2020  года\n",
      "30   апреля   2020  года\n",
      "28   мая   2020  года\n",
      "25   июня   2020  года\n",
      "30   июля   2020  года\n",
      "27   августа   2020  года\n",
      "24   сентября   2020  года\n",
      "29   октября   2020  года\n",
      "26   ноября   2020  года\n",
      "31   декабря   2020  года\n"
     ]
    }
   ],
   "source": [
    "import datetime\n",
    "n = int(input(\"Введите год: \"))\n",
    "daysOfMonth = [31, 28, 31, 30, 31, 30, 31, 31, 30, 31, 30, 31]\n",
    "months = ['января', 'февраля', 'марта', 'апреля', 'мая', 'июня', 'июля',\n",
    "'августа', 'сентября', 'октября', 'ноября', 'декабря']\n",
    "if n % 4 == 0 or n % 400 == 0:\n",
    " daysOfMonth[1] = 29\n",
    "i = 1\n",
    "while i < 13:\n",
    " for j in range(7):\n",
    "  day = datetime.date(n, i, daysOfMonth[i-1] - j)\n",
    "  if day.isoweekday() == 4:\n",
    "   print(day.day, ' ', months[i - 1], ' ', n, ' года')\n",
    " i += 1"
   ]
  }
 ],
 "metadata": {
  "kernelspec": {
   "display_name": "Python 3",
   "language": "python",
   "name": "python3"
  },
  "language_info": {
   "codemirror_mode": {
    "name": "ipython",
    "version": 3
   },
   "file_extension": ".py",
   "mimetype": "text/x-python",
   "name": "python",
   "nbconvert_exporter": "python",
   "pygments_lexer": "ipython3",
   "version": "3.7.4"
  }
 },
 "nbformat": 4,
 "nbformat_minor": 2
}
