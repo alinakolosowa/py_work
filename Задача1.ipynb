{
 "cells": [
  {
   "cell_type": "code",
   "execution_count": 4,
   "metadata": {},
   "outputs": [
    {
     "name": "stdout",
     "output_type": "stream",
     "text": [
      "Введите длину ребра куба:5\n",
      "Длина ребра 5\n",
      "Площадь боковой поверхности 100\n",
      "Объем куба 125\n"
     ]
    }
   ],
   "source": [
    "s = int(input(\"Введите длину ребра куба:\"))\n",
    "\n",
    "p = 4*s**2\n",
    "\n",
    "v = s*s*s\n",
    "\n",
    "print(\"Длина ребра \" + str(s))\n",
    "print(\"Площадь боковой поверхности \" + str(p))\n",
    "print(\"Объем куба \" + str(v))"
   ]
  },
  {
   "cell_type": "code",
   "execution_count": null,
   "metadata": {},
   "outputs": [],
   "source": []
  }
 ],
 "metadata": {
  "kernelspec": {
   "display_name": "Python 3",
   "language": "python",
   "name": "python3"
  },
  "language_info": {
   "codemirror_mode": {
    "name": "ipython",
    "version": 3
   },
   "file_extension": ".py",
   "mimetype": "text/x-python",
   "name": "python",
   "nbconvert_exporter": "python",
   "pygments_lexer": "ipython3",
   "version": "3.7.4"
  }
 },
 "nbformat": 4,
 "nbformat_minor": 2
}
